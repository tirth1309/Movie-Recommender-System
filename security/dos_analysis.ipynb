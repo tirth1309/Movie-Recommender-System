{
 "cells": [
  {
   "cell_type": "code",
   "execution_count": 120,
   "id": "initial_id",
   "metadata": {
    "collapsed": true,
    "ExecuteTime": {
     "end_time": "2024-04-28T02:02:26.906223Z",
     "start_time": "2024-04-28T02:02:26.900780Z"
    }
   },
   "outputs": [],
   "source": [
    "import pandas as pd"
   ]
  },
  {
   "cell_type": "code",
   "execution_count": 121,
   "id": "a25cb4e3b37c3042",
   "metadata": {
    "collapsed": false,
    "ExecuteTime": {
     "end_time": "2024-04-28T02:02:28.372273Z",
     "start_time": "2024-04-28T02:02:27.102435Z"
    }
   },
   "outputs": [],
   "source": [
    "data = pd.read_csv('kafka_messages_2024_04_20.txt', delimiter=',', header=None)"
   ]
  },
  {
   "cell_type": "code",
   "execution_count": 122,
   "id": "4609482a94a0759",
   "metadata": {
    "collapsed": false,
    "ExecuteTime": {
     "end_time": "2024-04-28T02:02:28.383440Z",
     "start_time": "2024-04-28T02:02:28.379438Z"
    }
   },
   "outputs": [
    {
     "data": {
      "text/plain": "                           0       1   \\\n0  2024-04-20T00:00:00.199088  886374   \n1  2024-04-20T00:00:00.349746  346047   \n2  2024-04-20T00:00:00.514431  715740   \n3  2024-04-20T00:00:00.532827  150921   \n4  2024-04-20T00:00:00.538308  200203   \n\n                                                  2            3   \\\n0  recommendation request 17645-team05.isri.cmu.e...   status 200   \n1  recommendation request 17645-team05.isri.cmu.e...   status 200   \n2  recommendation request 17645-team05.isri.cmu.e...   status 200   \n3  recommendation request 17645-team05.isri.cmu.e...   status 200   \n4  recommendation request 17645-team05.isri.cmu.e...   status 200   \n\n                       4                    5                      6   \\\n0   result: rashomon+1950   the+apartment+1960   his+girl+friday+1940   \n1   result: rashomon+1950   the+apartment+1960   his+girl+friday+1940   \n2   result: rashomon+1950   the+apartment+1960   his+girl+friday+1940   \n3   result: rashomon+1950   the+apartment+1960   his+girl+friday+1940   \n4   result: rashomon+1950   the+apartment+1960   his+girl+friday+1940   \n\n                               7                              8   \\\n0   the+shawshank+redemption+1994   buena+vista+social+club+1999   \n1   the+shawshank+redemption+1994   buena+vista+social+club+1999   \n2   the+shawshank+redemption+1994   buena+vista+social+club+1999   \n3   the+shawshank+redemption+1994   buena+vista+social+club+1999   \n4   the+shawshank+redemption+1994   buena+vista+social+club+1999   \n\n                        9   ...                        15  \\\n0   princess+mononoke+1997  ...   my+neighbor+totoro+1988   \n1   princess+mononoke+1997  ...   my+neighbor+totoro+1988   \n2   princess+mononoke+1997  ...   my+neighbor+totoro+1988   \n3   princess+mononoke+1997  ...   my+neighbor+totoro+1988   \n4   princess+mononoke+1997  ...   my+neighbor+totoro+1988   \n\n                     16                                17  \\\n0   little+big+man+1970   the+triplets+of+belleville+2003   \n1   little+big+man+1970   the+triplets+of+belleville+2003   \n2   little+big+man+1970   the+triplets+of+belleville+2003   \n3   little+big+man+1970   the+triplets+of+belleville+2003   \n4   little+big+man+1970   the+triplets+of+belleville+2003   \n\n                    18                      19                       20  \\\n0   the+400+blows+1959   the+seventh+seal+1957   castle+in+the+sky+1986   \n1   the+400+blows+1959   the+seventh+seal+1957   castle+in+the+sky+1986   \n2   the+400+blows+1959   the+seventh+seal+1957   castle+in+the+sky+1986   \n3   the+400+blows+1959   the+seventh+seal+1957   castle+in+the+sky+1986   \n4   the+400+blows+1959   the+seventh+seal+1957   castle+in+the+sky+1986   \n\n                      21       22                    23       24  \n0   schindlers+list+1993   m+1931   paths+of+glory+1957   127 ms  \n1   schindlers+list+1993   m+1931   paths+of+glory+1957   257 ms  \n2   schindlers+list+1993   m+1931   paths+of+glory+1957   423 ms  \n3   schindlers+list+1993   m+1931   paths+of+glory+1957   431 ms  \n4   schindlers+list+1993   m+1931   paths+of+glory+1957   447 ms  \n\n[5 rows x 25 columns]",
      "text/html": "<div>\n<style scoped>\n    .dataframe tbody tr th:only-of-type {\n        vertical-align: middle;\n    }\n\n    .dataframe tbody tr th {\n        vertical-align: top;\n    }\n\n    .dataframe thead th {\n        text-align: right;\n    }\n</style>\n<table border=\"1\" class=\"dataframe\">\n  <thead>\n    <tr style=\"text-align: right;\">\n      <th></th>\n      <th>0</th>\n      <th>1</th>\n      <th>2</th>\n      <th>3</th>\n      <th>4</th>\n      <th>5</th>\n      <th>6</th>\n      <th>7</th>\n      <th>8</th>\n      <th>9</th>\n      <th>...</th>\n      <th>15</th>\n      <th>16</th>\n      <th>17</th>\n      <th>18</th>\n      <th>19</th>\n      <th>20</th>\n      <th>21</th>\n      <th>22</th>\n      <th>23</th>\n      <th>24</th>\n    </tr>\n  </thead>\n  <tbody>\n    <tr>\n      <th>0</th>\n      <td>2024-04-20T00:00:00.199088</td>\n      <td>886374</td>\n      <td>recommendation request 17645-team05.isri.cmu.e...</td>\n      <td>status 200</td>\n      <td>result: rashomon+1950</td>\n      <td>the+apartment+1960</td>\n      <td>his+girl+friday+1940</td>\n      <td>the+shawshank+redemption+1994</td>\n      <td>buena+vista+social+club+1999</td>\n      <td>princess+mononoke+1997</td>\n      <td>...</td>\n      <td>my+neighbor+totoro+1988</td>\n      <td>little+big+man+1970</td>\n      <td>the+triplets+of+belleville+2003</td>\n      <td>the+400+blows+1959</td>\n      <td>the+seventh+seal+1957</td>\n      <td>castle+in+the+sky+1986</td>\n      <td>schindlers+list+1993</td>\n      <td>m+1931</td>\n      <td>paths+of+glory+1957</td>\n      <td>127 ms</td>\n    </tr>\n    <tr>\n      <th>1</th>\n      <td>2024-04-20T00:00:00.349746</td>\n      <td>346047</td>\n      <td>recommendation request 17645-team05.isri.cmu.e...</td>\n      <td>status 200</td>\n      <td>result: rashomon+1950</td>\n      <td>the+apartment+1960</td>\n      <td>his+girl+friday+1940</td>\n      <td>the+shawshank+redemption+1994</td>\n      <td>buena+vista+social+club+1999</td>\n      <td>princess+mononoke+1997</td>\n      <td>...</td>\n      <td>my+neighbor+totoro+1988</td>\n      <td>little+big+man+1970</td>\n      <td>the+triplets+of+belleville+2003</td>\n      <td>the+400+blows+1959</td>\n      <td>the+seventh+seal+1957</td>\n      <td>castle+in+the+sky+1986</td>\n      <td>schindlers+list+1993</td>\n      <td>m+1931</td>\n      <td>paths+of+glory+1957</td>\n      <td>257 ms</td>\n    </tr>\n    <tr>\n      <th>2</th>\n      <td>2024-04-20T00:00:00.514431</td>\n      <td>715740</td>\n      <td>recommendation request 17645-team05.isri.cmu.e...</td>\n      <td>status 200</td>\n      <td>result: rashomon+1950</td>\n      <td>the+apartment+1960</td>\n      <td>his+girl+friday+1940</td>\n      <td>the+shawshank+redemption+1994</td>\n      <td>buena+vista+social+club+1999</td>\n      <td>princess+mononoke+1997</td>\n      <td>...</td>\n      <td>my+neighbor+totoro+1988</td>\n      <td>little+big+man+1970</td>\n      <td>the+triplets+of+belleville+2003</td>\n      <td>the+400+blows+1959</td>\n      <td>the+seventh+seal+1957</td>\n      <td>castle+in+the+sky+1986</td>\n      <td>schindlers+list+1993</td>\n      <td>m+1931</td>\n      <td>paths+of+glory+1957</td>\n      <td>423 ms</td>\n    </tr>\n    <tr>\n      <th>3</th>\n      <td>2024-04-20T00:00:00.532827</td>\n      <td>150921</td>\n      <td>recommendation request 17645-team05.isri.cmu.e...</td>\n      <td>status 200</td>\n      <td>result: rashomon+1950</td>\n      <td>the+apartment+1960</td>\n      <td>his+girl+friday+1940</td>\n      <td>the+shawshank+redemption+1994</td>\n      <td>buena+vista+social+club+1999</td>\n      <td>princess+mononoke+1997</td>\n      <td>...</td>\n      <td>my+neighbor+totoro+1988</td>\n      <td>little+big+man+1970</td>\n      <td>the+triplets+of+belleville+2003</td>\n      <td>the+400+blows+1959</td>\n      <td>the+seventh+seal+1957</td>\n      <td>castle+in+the+sky+1986</td>\n      <td>schindlers+list+1993</td>\n      <td>m+1931</td>\n      <td>paths+of+glory+1957</td>\n      <td>431 ms</td>\n    </tr>\n    <tr>\n      <th>4</th>\n      <td>2024-04-20T00:00:00.538308</td>\n      <td>200203</td>\n      <td>recommendation request 17645-team05.isri.cmu.e...</td>\n      <td>status 200</td>\n      <td>result: rashomon+1950</td>\n      <td>the+apartment+1960</td>\n      <td>his+girl+friday+1940</td>\n      <td>the+shawshank+redemption+1994</td>\n      <td>buena+vista+social+club+1999</td>\n      <td>princess+mononoke+1997</td>\n      <td>...</td>\n      <td>my+neighbor+totoro+1988</td>\n      <td>little+big+man+1970</td>\n      <td>the+triplets+of+belleville+2003</td>\n      <td>the+400+blows+1959</td>\n      <td>the+seventh+seal+1957</td>\n      <td>castle+in+the+sky+1986</td>\n      <td>schindlers+list+1993</td>\n      <td>m+1931</td>\n      <td>paths+of+glory+1957</td>\n      <td>447 ms</td>\n    </tr>\n  </tbody>\n</table>\n<p>5 rows × 25 columns</p>\n</div>"
     },
     "execution_count": 122,
     "metadata": {},
     "output_type": "execute_result"
    }
   ],
   "source": [
    "data.head()"
   ]
  },
  {
   "cell_type": "code",
   "execution_count": 123,
   "id": "649afc7815736d13",
   "metadata": {
    "collapsed": false,
    "ExecuteTime": {
     "end_time": "2024-04-28T02:02:28.624016Z",
     "start_time": "2024-04-28T02:02:28.620357Z"
    }
   },
   "outputs": [
    {
     "data": {
      "text/plain": "Index([ 0,  1,  2,  3,  4,  5,  6,  7,  8,  9, 10, 11, 12, 13, 14, 15, 16, 17,\n       18, 19, 20, 21, 22, 23, 24],\n      dtype='int64')"
     },
     "execution_count": 123,
     "metadata": {},
     "output_type": "execute_result"
    }
   ],
   "source": [
    "data.columns"
   ]
  },
  {
   "cell_type": "code",
   "execution_count": 124,
   "id": "6eb75e6d51fe9661",
   "metadata": {
    "collapsed": false,
    "ExecuteTime": {
     "end_time": "2024-04-28T02:02:29.058774Z",
     "start_time": "2024-04-28T02:02:29.054253Z"
    }
   },
   "outputs": [],
   "source": [
    "data.drop([2,3,4,5,6,7,8,9,10,11,12,13,14,15,16,17,18,19,20,21,22,23,24], axis=1,inplace=True)"
   ]
  },
  {
   "cell_type": "code",
   "execution_count": 125,
   "id": "d52b23db",
   "metadata": {
    "ExecuteTime": {
     "end_time": "2024-04-28T02:02:29.569081Z",
     "start_time": "2024-04-28T02:02:29.565061Z"
    }
   },
   "outputs": [
    {
     "data": {
      "text/plain": "                            0       1\n0  2024-04-20T00:00:00.199088  886374\n1  2024-04-20T00:00:00.349746  346047\n2  2024-04-20T00:00:00.514431  715740\n3  2024-04-20T00:00:00.532827  150921\n4  2024-04-20T00:00:00.538308  200203",
      "text/html": "<div>\n<style scoped>\n    .dataframe tbody tr th:only-of-type {\n        vertical-align: middle;\n    }\n\n    .dataframe tbody tr th {\n        vertical-align: top;\n    }\n\n    .dataframe thead th {\n        text-align: right;\n    }\n</style>\n<table border=\"1\" class=\"dataframe\">\n  <thead>\n    <tr style=\"text-align: right;\">\n      <th></th>\n      <th>0</th>\n      <th>1</th>\n    </tr>\n  </thead>\n  <tbody>\n    <tr>\n      <th>0</th>\n      <td>2024-04-20T00:00:00.199088</td>\n      <td>886374</td>\n    </tr>\n    <tr>\n      <th>1</th>\n      <td>2024-04-20T00:00:00.349746</td>\n      <td>346047</td>\n    </tr>\n    <tr>\n      <th>2</th>\n      <td>2024-04-20T00:00:00.514431</td>\n      <td>715740</td>\n    </tr>\n    <tr>\n      <th>3</th>\n      <td>2024-04-20T00:00:00.532827</td>\n      <td>150921</td>\n    </tr>\n    <tr>\n      <th>4</th>\n      <td>2024-04-20T00:00:00.538308</td>\n      <td>200203</td>\n    </tr>\n  </tbody>\n</table>\n</div>"
     },
     "execution_count": 125,
     "metadata": {},
     "output_type": "execute_result"
    }
   ],
   "source": [
    "data.head()"
   ]
  },
  {
   "cell_type": "code",
   "execution_count": 126,
   "id": "6c5415503a202ad1",
   "metadata": {
    "collapsed": false,
    "ExecuteTime": {
     "end_time": "2024-04-28T02:02:30.857230Z",
     "start_time": "2024-04-28T02:02:30.028419Z"
    }
   },
   "outputs": [],
   "source": [
    "import pandas as pd\n",
    "\n",
    "# Assuming 'data' is your DataFrame and 'data[0]' is the column with the strings.\n",
    "\n",
    "# Function to join parts of the string up to the nth colon\n",
    "def join_until_nth_colon(s, val):\n",
    "    parts = s.split(':')\n",
    "    return ':'.join(parts[:val]) if len(parts) >= val else s\n",
    "\n",
    "# Apply the function to each row in the column with the respective 'val'\n",
    "data['mins'] = data[0].apply(join_until_nth_colon, val=2)\n",
    "data['hours'] = data[0].apply(join_until_nth_colon, val=1)\n",
    "data['day'] = data[0].str.split(\"T\").str[0] \n",
    "\n"
   ]
  },
  {
   "cell_type": "code",
   "execution_count": 127,
   "id": "a05316540d7f8d35",
   "metadata": {
    "collapsed": false,
    "ExecuteTime": {
     "end_time": "2024-04-28T02:02:30.929416Z",
     "start_time": "2024-04-28T02:02:30.860114Z"
    }
   },
   "outputs": [
    {
     "data": {
      "text/plain": "286262"
     },
     "execution_count": 127,
     "metadata": {},
     "output_type": "execute_result"
    }
   ],
   "source": [
    "len(data.groupby(1).count())"
   ]
  },
  {
   "cell_type": "markdown",
   "source": [
    "## Recommendation requests sent by a user per minute\n",
    "\n",
    "It will display the number of requests sent by a user in 1 minute if it exceeds the threshold."
   ],
   "metadata": {
    "collapsed": false
   },
   "id": "fcc6248f5d80de90"
  },
  {
   "cell_type": "code",
   "execution_count": 130,
   "id": "4c917b3316112ea0",
   "metadata": {
    "collapsed": false,
    "ExecuteTime": {
     "end_time": "2024-04-28T02:02:47.615875Z",
     "start_time": "2024-04-28T02:02:47.498842Z"
    }
   },
   "outputs": [
    {
     "name": "stdout",
     "output_type": "stream",
     "text": [
      "             1              mins  Count\n",
      "121265  323781  2024-04-20T18:41      2\n",
      "140338  374175  2024-04-20T21:58      2\n",
      "150172  400439  2024-04-20T20:57      2\n",
      "169590  451652  2024-04-20T17:13      2\n",
      "178175  474556  2024-04-20T15:43      2\n",
      "186361  496754  2024-04-20T21:46      2\n",
      "278335  742588  2024-04-20T15:13      2\n",
      "372776  993889  2024-04-20T15:38      2\n"
     ]
    }
   ],
   "source": [
    "threshold = 1\n",
    "result = data.groupby([1, 'mins']).size().reset_index(name='Count')\n",
    "\n",
    "# Filter the groups with count more than 2\n",
    "filtered_result = result[result['Count'] > threshold]\n",
    "\n",
    "print(filtered_result)\n"
   ]
  },
  {
   "cell_type": "markdown",
   "source": [
    "## Recommendation requests sent by a user per hour\n",
    "\n",
    "It will display the number of requests sent by a user in 1 hour if it exceeds the threshold."
   ],
   "metadata": {
    "collapsed": false
   },
   "id": "e576ea43091dfe28"
  },
  {
   "cell_type": "code",
   "execution_count": 133,
   "id": "20705ec5",
   "metadata": {
    "ExecuteTime": {
     "end_time": "2024-04-28T02:03:58.692205Z",
     "start_time": "2024-04-28T02:03:58.587011Z"
    }
   },
   "outputs": [
    {
     "name": "stdout",
     "output_type": "stream",
     "text": [
      "             1          hours  Count\n",
      "216672  578411  2024-04-20T16      3\n",
      "334628  894901  2024-04-20T20      3\n"
     ]
    }
   ],
   "source": [
    "threshold = 2\n",
    "\n",
    "result = data.groupby([1, 'hours']).size().reset_index(name='Count')\n",
    "\n",
    "# Filter the groups with count more than 2\n",
    "filtered_result = result[result['Count'] > threshold]\n",
    "\n",
    "print(filtered_result)\n"
   ]
  },
  {
   "cell_type": "markdown",
   "source": [
    "## Recommendation requests sent by a user per day\n",
    "\n",
    "It will display the number of requests sent by a user in 1 day if it exceeds the threshold."
   ],
   "metadata": {
    "collapsed": false
   },
   "id": "388dea91b726be85"
  },
  {
   "cell_type": "code",
   "execution_count": 136,
   "id": "4080cd94",
   "metadata": {
    "ExecuteTime": {
     "end_time": "2024-04-28T02:04:37.135603Z",
     "start_time": "2024-04-28T02:04:36.992919Z"
    }
   },
   "outputs": [
    {
     "name": "stdout",
     "output_type": "stream",
     "text": [
      "             1         day  Count\n",
      "13          74  2024-04-20      5\n",
      "14          80  2024-04-20      3\n",
      "44         154  2024-04-20      4\n",
      "56         189  2024-04-20      3\n",
      "60         206  2024-04-20      3\n",
      "...        ...         ...    ...\n",
      "286110  999488  2024-04-20      3\n",
      "286155  999649  2024-04-20      3\n",
      "286193  999782  2024-04-20      3\n",
      "286211  999826  2024-04-20      3\n",
      "286241  999923  2024-04-20      3\n",
      "\n",
      "[14524 rows x 3 columns]\n"
     ]
    }
   ],
   "source": [
    "threshold = 2\n",
    "\n",
    "result = data.groupby([1, 'day']).size().reset_index(name='Count')\n",
    "\n",
    "# Filter the groups with count more than 2\n",
    "filtered_result = result[result['Count'] > threshold]\n",
    "\n",
    "print(filtered_result)"
   ]
  },
  {
   "cell_type": "code",
   "outputs": [],
   "source": [],
   "metadata": {
    "collapsed": false
   },
   "id": "cb9dd038a6f54e85"
  }
 ],
 "metadata": {
  "kernelspec": {
   "display_name": "Python 3",
   "language": "python",
   "name": "python3"
  },
  "language_info": {
   "codemirror_mode": {
    "name": "ipython",
    "version": 3
   },
   "file_extension": ".py",
   "mimetype": "text/x-python",
   "name": "python",
   "nbconvert_exporter": "python",
   "pygments_lexer": "ipython3",
   "version": "3.11.5"
  }
 },
 "nbformat": 4,
 "nbformat_minor": 5
}
