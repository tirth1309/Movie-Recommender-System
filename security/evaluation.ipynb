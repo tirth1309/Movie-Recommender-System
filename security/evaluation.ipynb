{
 "cells": [
  {
   "cell_type": "code",
   "execution_count": 1,
   "metadata": {},
   "outputs": [],
   "source": [
    "from pyspark.sql import SparkSession"
   ]
  },
  {
   "cell_type": "code",
   "execution_count": 31,
   "metadata": {},
   "outputs": [],
   "source": [
    "spark = SparkSession.builder \\\n",
    "    .appName(\"M4 Attack Analysis\") \\\n",
    "    .getOrCreate()\n",
    "\n",
    "# kafka_messages.txt contains the log messages from the Kafka topic\n",
    "file_path = 'kafka_messages.txt' \n",
    "rdd = spark.sparkContext.textFile(file_path)"
   ]
  },
  {
   "cell_type": "code",
   "execution_count": 27,
   "metadata": {},
   "outputs": [],
   "source": [
    "# our log file that contains the suspected attack information\n",
    "log_path = 'logfile_security.txt' \n",
    "suspected_rdd = spark.sparkContext.textFile(log_path) \\\n",
    "    .filter(lambda line: 'Movie' in line)\n",
    "    \n",
    "def get_movie_id(line):\n",
    "    tokens = line.split(' ')\n",
    "    index = tokens.index('has')\n",
    "    return ''.join(tokens[1:index])\n",
    "\n",
    "suspected_rdd = suspected_rdd.map(lambda line: get_movie_id(line))\n",
    "suspected_movie_set = set(suspected_rdd.collect())"
   ]
  },
  {
   "cell_type": "code",
   "execution_count": 44,
   "metadata": {},
   "outputs": [],
   "source": [
    "\n",
    "transformed_rdd = rdd.filter(lambda line: '/rate/' in line.split(',')[2]) \\\n",
    "    .map(lambda line: line.split(',')[2].split('/')[2].split('=')) \\\n",
    "    .map(lambda tokens: (tokens[0], tokens[1])) \\\n",
    "    .filter(lambda x: x[0] in suspected_movie_set) \\\n",
    "    .groupByKey() \\\n",
    "    .mapValues(list)"
   ]
  },
  {
   "cell_type": "code",
   "execution_count": 45,
   "metadata": {},
   "outputs": [
    {
     "name": "stderr",
     "output_type": "stream",
     "text": [
      "[Stage 39:====================================================> (178 + 5) / 183]\r"
     ]
    },
    {
     "name": "stdout",
     "output_type": "stream",
     "text": [
      "79\n"
     ]
    },
    {
     "name": "stderr",
     "output_type": "stream",
     "text": [
      "                                                                                \r"
     ]
    }
   ],
   "source": [
    "print(len(transformed_rdd.collect()))"
   ]
  },
  {
   "cell_type": "code",
   "execution_count": 64,
   "metadata": {},
   "outputs": [
    {
     "name": "stdout",
     "output_type": "stream",
     "text": [
      "14\n",
      "('spirited+away+2001', {'4': 923, '5': 498, '3': 179, '2': 7})\n",
      "('alexander+2004', {'1': 29, '3': 1})\n",
      "('the+shining+1980', {'4': 520, '5': 226, '3': 125, '2': 7})\n",
      "('the+shawshank+redemption+1994', {'5': 6573, '4': 7113, '3': 906, '2': 23, '1': 1})\n",
      "('inception+2010', {'3': 319, '4': 1352, '5': 702, '2': 11, '1': 1})\n",
      "('confessions+2010', {'5': 7, '4': 23, '3': 3})\n",
      "('iron+man+2008', {'4': 635, '5': 195, '3': 209, '2': 9})\n",
      "('the+sting+1973', {'3': 9, '5': 16, '4': 28})\n",
      "('an+american+crime+2007', {'4': 19, '5': 3, '3': 7, '2': 1})\n",
      "('grey+gardens+1975', {'4': 21, '3': 13, '5': 8})\n",
      "('star+wars+1977', {'4': 1054, '5': 643, '3': 201, '2': 8})\n",
      "('sabotage+1936', {'5': 6, '4': 15, '2': 1, '3': 3})\n",
      "('le+cercle+rouge+1970', {'4': 38, '3': 9, '5': 7})\n",
      "('mind+game+2004', {'4': 11, '5': 7, '3': 2})\n"
     ]
    }
   ],
   "source": [
    "def get_rating_dict(ratings):\n",
    "    dict = {}\n",
    "    for rating in ratings:\n",
    "        rating = rating[:-1]\n",
    "        if not (rating).isnumeric():\n",
    "            continue\n",
    "        if rating in dict:\n",
    "            dict[rating] += 1\n",
    "        else:\n",
    "            dict[rating] = 1\n",
    "    return dict\n",
    "\n",
    "THRESHOLD = 10\n",
    "evaluation_rdd = transformed_rdd.filter(lambda x: len(x[1]) > THRESHOLD) \\\n",
    "    .map(lambda x: (x[0], get_rating_dict(x[1])))\n",
    "\n",
    "print(len(evaluation_rdd.collect()))\n",
    "for i in evaluation_rdd.collect():\n",
    "    print(i)"
   ]
  }
 ],
 "metadata": {
  "kernelspec": {
   "display_name": "podcast-data",
   "language": "python",
   "name": "python3"
  },
  "language_info": {
   "codemirror_mode": {
    "name": "ipython",
    "version": 3
   },
   "file_extension": ".py",
   "mimetype": "text/x-python",
   "name": "python",
   "nbconvert_exporter": "python",
   "pygments_lexer": "ipython3",
   "version": "3.8.10"
  }
 },
 "nbformat": 4,
 "nbformat_minor": 2
}
