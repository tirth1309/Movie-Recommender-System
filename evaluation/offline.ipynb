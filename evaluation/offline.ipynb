{
 "cells": [
  {
   "cell_type": "markdown",
   "source": [
    "# Evaluate full validation set"
   ],
   "metadata": {
    "collapsed": false
   },
   "id": "749f30b9faf878c2"
  },
  {
   "cell_type": "code",
   "outputs": [],
   "source": [
    "import pandas as pd\n",
    "\n",
    "def prepare_data_from_csv(file_path):\n",
    "    \"\"\"\n",
    "    This function returns two dataframes: train_df - this has the first 80% of entries for each user; val_df - this has\n",
    "    the bottom 20% of entries for each user\n",
    "    :param file_path: complete data csv file path\n",
    "    :return: train_df, val_df\n",
    "    \"\"\"\n",
    "\n",
    "    df = pd.read_csv(file_path)\n",
    "    \n",
    "    df.reset_index(drop=True, inplace=True)\n",
    "    \n",
    "    df = df[['user', 'item', 'rating']]\n",
    "    \n",
    "    df['user'] = df['user'].astype(str)\n",
    "    df['item'] = df['item'].astype(str)\n",
    "    df['rating'] = df['rating'].astype(float)\n",
    "\n",
    "    return df"
   ],
   "metadata": {
    "collapsed": false,
    "ExecuteTime": {
     "end_time": "2024-03-18T19:50:45.445223Z",
     "start_time": "2024-03-18T19:50:45.441753Z"
    }
   },
   "id": "1803732960b90b9f",
   "execution_count": 27
  },
  {
   "cell_type": "code",
   "outputs": [],
   "source": [],
   "metadata": {
    "collapsed": false,
    "ExecuteTime": {
     "end_time": "2024-03-18T20:19:29.146493Z",
     "start_time": "2024-03-18T20:19:29.142419Z"
    }
   },
   "id": "cf6f3467da2f9da5",
   "execution_count": 51
  },
  {
   "cell_type": "code",
   "outputs": [],
   "source": [
    "val_df = prepare_data_from_csv('../data/offline_evaluation_data/full_validation_set/val_data.csv')"
   ],
   "metadata": {
    "collapsed": false,
    "ExecuteTime": {
     "end_time": "2024-03-18T19:50:45.984202Z",
     "start_time": "2024-03-18T19:50:45.945129Z"
    }
   },
   "id": "26fedb066a62e2f6",
   "execution_count": 28
  },
  {
   "cell_type": "code",
   "outputs": [
    {
     "data": {
      "text/plain": "     user                          item  rating\n0  202605    a+league+of+their+own+1992    3.23\n1  202605  a+river+runs+through+it+1992    3.00\n2  202605                 rounders+1998    3.00\n3  202605      shakespeare+in+love+1998    4.00\n4   19159                space+jam+1996    2.00",
      "text/html": "<div>\n<style scoped>\n    .dataframe tbody tr th:only-of-type {\n        vertical-align: middle;\n    }\n\n    .dataframe tbody tr th {\n        vertical-align: top;\n    }\n\n    .dataframe thead th {\n        text-align: right;\n    }\n</style>\n<table border=\"1\" class=\"dataframe\">\n  <thead>\n    <tr style=\"text-align: right;\">\n      <th></th>\n      <th>user</th>\n      <th>item</th>\n      <th>rating</th>\n    </tr>\n  </thead>\n  <tbody>\n    <tr>\n      <th>0</th>\n      <td>202605</td>\n      <td>a+league+of+their+own+1992</td>\n      <td>3.23</td>\n    </tr>\n    <tr>\n      <th>1</th>\n      <td>202605</td>\n      <td>a+river+runs+through+it+1992</td>\n      <td>3.00</td>\n    </tr>\n    <tr>\n      <th>2</th>\n      <td>202605</td>\n      <td>rounders+1998</td>\n      <td>3.00</td>\n    </tr>\n    <tr>\n      <th>3</th>\n      <td>202605</td>\n      <td>shakespeare+in+love+1998</td>\n      <td>4.00</td>\n    </tr>\n    <tr>\n      <th>4</th>\n      <td>19159</td>\n      <td>space+jam+1996</td>\n      <td>2.00</td>\n    </tr>\n  </tbody>\n</table>\n</div>"
     },
     "execution_count": 29,
     "metadata": {},
     "output_type": "execute_result"
    }
   ],
   "source": [
    "val_df.head()"
   ],
   "metadata": {
    "collapsed": false,
    "ExecuteTime": {
     "end_time": "2024-03-18T19:50:46.810375Z",
     "start_time": "2024-03-18T19:50:46.805284Z"
    }
   },
   "id": "298aa2d6abaee228",
   "execution_count": 29
  },
  {
   "cell_type": "code",
   "outputs": [],
   "source": [
    "import joblib\n",
    "from model_build.train import evaluate\n",
    "\n",
    "model = joblib.load('../saved_models/updated_best_model.pkl')\n"
   ],
   "metadata": {
    "collapsed": false,
    "ExecuteTime": {
     "end_time": "2024-03-18T19:50:48.423411Z",
     "start_time": "2024-03-18T19:50:47.658085Z"
    }
   },
   "id": "382c93721d26f671",
   "execution_count": 30
  },
  {
   "cell_type": "code",
   "outputs": [],
   "source": [
    "import pandas as pd\n",
    "from surprise import Dataset, Reader\n",
    "\n",
    "def calculate_rmse(csv_file_name, model):\n",
    "    # Read the CSV file into a pandas DataFrame\n",
    "    df = pd.read_csv(csv_file_name)\n",
    "\n",
    "    # Define the reader with the rating scale\n",
    "    reader = Reader(rating_scale=(1, 5))\n",
    "\n",
    "    # Load the DataFrame into Surprise's Dataset format\n",
    "    data = Dataset.load_from_df(df[['user', 'item', 'rating']], reader)\n",
    "    \n",
    "    rmse = evaluate(model, data)\n",
    "    \n",
    "    return rmse\n",
    "\n",
    "# Example usage:\n",
    "# model = ... # Your code to initialize the model here\n",
    "# csv_file_path = 'path_to_your_csv.csv'  # Replace with your actual CSV file path\n",
    "# rmse = calculate_rmse(csv_file_path, model)\n",
    "# print(f\"The RMSE is: {rmse}\")"
   ],
   "metadata": {
    "collapsed": false,
    "ExecuteTime": {
     "end_time": "2024-03-18T20:04:56.157104Z",
     "start_time": "2024-03-18T20:04:56.154482Z"
    }
   },
   "id": "5b7bb5161d013dc5",
   "execution_count": 36
  },
  {
   "cell_type": "code",
   "outputs": [],
   "source": [
    "import os\n",
    "\n",
    "def calculate_rmse_for_slices(directory, model):\n",
    "    rmse_dict = {}  # Initialize a dictionary to hold file names and their RMSE values\n",
    "\n",
    "    # Get a list of all files in the directory\n",
    "    for file in os.listdir(directory):\n",
    "        # Check if the file is a CSV\n",
    "        if file.endswith('.csv'):\n",
    "            # Construct the full path to the file\n",
    "            file_path = os.path.join(directory, file)\n",
    "            # Calculate RMSE for this file using the provided model\n",
    "            rmse_value = calculate_rmse(file_path, model)\n",
    "            # Store the RMSE value in the dictionary with the filename as the key\n",
    "            rmse_dict[file] = rmse_value\n",
    "\n",
    "    # # Print RMSE values\n",
    "    # for file_name, rmse in rmse_dict.items():\n",
    "    #     print(f\"RMSE for {file_name}: {rmse}\")\n",
    "    \n",
    "    return rmse_dict\n",
    "\n",
    "# Assuming `model` is already defined and loaded\n",
    "# Call the function with the directory path and model\n",
    "\n",
    "\n",
    "# The `rmse_results` dictionary now has the RMSE for each file\n"
   ],
   "metadata": {
    "collapsed": false,
    "ExecuteTime": {
     "end_time": "2024-03-18T20:32:51.328540Z",
     "start_time": "2024-03-18T20:32:51.327033Z"
    }
   },
   "id": "782cd4a66447b6ed",
   "execution_count": 62
  },
  {
   "cell_type": "markdown",
   "source": [
    "# FULL VALIDATION SET EVALUATION"
   ],
   "metadata": {
    "collapsed": false
   },
   "id": "a2663fdf5b05292d"
  },
  {
   "cell_type": "code",
   "outputs": [
    {
     "name": "stdout",
     "output_type": "stream",
     "text": [
      "RMSE: 0.8611\n"
     ]
    }
   ],
   "source": [
    "val_directory = '../data/offline_evaluation_data/full_validation_set/'\n",
    "rmse_results = calculate_rmse_for_slices(val_directory, model)\n"
   ],
   "metadata": {
    "collapsed": false,
    "ExecuteTime": {
     "end_time": "2024-03-18T20:33:25.780535Z",
     "start_time": "2024-03-18T20:33:25.611663Z"
    }
   },
   "id": "36847215fd60f325",
   "execution_count": 67
  },
  {
   "cell_type": "markdown",
   "source": [
    "# AGE SLICES EVALUATION"
   ],
   "metadata": {
    "collapsed": false
   },
   "id": "ee92219c84ed30e"
  },
  {
   "cell_type": "code",
   "outputs": [
    {
     "name": "stdout",
     "output_type": "stream",
     "text": [
      "RMSE: 0.8963\n",
      "RMSE: 0.8579\n",
      "RMSE: 0.8818\n",
      "RMSE: 0.8647\n",
      "RMSE: 0.8624\n",
      "{'age61-90.csv': 0.8963042991225347, 'age27-40.csv': 0.8578682530660526, 'age41-60.csv': 0.8817611756941088, 'age17-26.csv': 0.8647214246258345, 'age8-16.csv': 0.8624051910066808}\n"
     ]
    }
   ],
   "source": [
    "age_directory = '../data/offline_evaluation_data/age_data/'\n",
    "rmse_results = calculate_rmse_for_slices(age_directory, model)\n",
    "\n",
    "print(rmse_results)"
   ],
   "metadata": {
    "collapsed": false,
    "ExecuteTime": {
     "end_time": "2024-03-18T20:33:08.878670Z",
     "start_time": "2024-03-18T20:33:08.706331Z"
    }
   },
   "id": "b0855cc05e8f750d",
   "execution_count": 64
  },
  {
   "cell_type": "markdown",
   "source": [
    "# OCCUPATION SLICES EVALUATION"
   ],
   "metadata": {
    "collapsed": false
   },
   "id": "efaccb68cd866b86"
  },
  {
   "cell_type": "code",
   "outputs": [
    {
     "name": "stdout",
     "output_type": "stream",
     "text": [
      "RMSE: 0.8572\n",
      "RMSE: 0.8641\n",
      "RMSE: 0.8423\n",
      "RMSE: 0.8506\n",
      "RMSE: 0.7489\n",
      "RMSE: 0.8397\n",
      "RMSE: 0.8319\n",
      "RMSE: 0.8731\n",
      "RMSE: 0.8532\n",
      "RMSE: 0.8290\n",
      "RMSE: 0.8588\n",
      "RMSE: 0.8664\n",
      "RMSE: 0.9617\n",
      "RMSE: 0.9233\n",
      "RMSE: 0.8959\n",
      "RMSE: 0.8547\n",
      "RMSE: 0.9270\n",
      "RMSE: 0.9423\n",
      "RMSE: 0.8550\n",
      "RMSE: 0.9206\n",
      "{'college_grad_student.csv': 0.8572355707392597, 'self-employed.csv': 0.8641439005718071, 'sales_marketing.csv': 0.842347998907041, 'academic_educator.csv': 0.8505826121978064, 'farmer.csv': 0.7489342361946913, 'doctor_health_care.csv': 0.8397136032430839, 'technician_engineer.csv': 0.8318813567836064, 'lawyer.csv': 0.8731401716899254, 'scientist.csv': 0.853209631905005, 'artist.csv': 0.8290191091231746, 'executive_managerial.csv': 0.8588355066556974, 'programmer.csv': 0.8664039211299872, 'tradesman_craftsman.csv': 0.9616865931201122, 'customer_service.csv': 0.9232655347095576, 'other_or_not_specified.csv': 0.8958548067756068, 'homemaker.csv': 0.8547430543811845, 'clerical_admin.csv': 0.927037496013773, 'retired.csv': 0.942271743211765, 'k-12_student.csv': 0.8550334575440766, 'writer.csv': 0.9206063421125088}\n"
     ]
    }
   ],
   "source": [
    "occupation_directory = '../data/offline_evaluation_data/occupation_data/'\n",
    "rmse_results = calculate_rmse_for_slices(occupation_directory, model)\n",
    "\n",
    "print(rmse_results)"
   ],
   "metadata": {
    "collapsed": false,
    "ExecuteTime": {
     "end_time": "2024-03-18T20:33:10.558643Z",
     "start_time": "2024-03-18T20:33:10.352990Z"
    }
   },
   "id": "c404e004b3babdc",
   "execution_count": 65
  },
  {
   "cell_type": "markdown",
   "source": [
    "# Gender Based Slicing"
   ],
   "metadata": {
    "collapsed": false
   },
   "id": "dc5acef8ed09ede1"
  },
  {
   "cell_type": "code",
   "outputs": [
    {
     "name": "stdout",
     "output_type": "stream",
     "text": [
      "RMSE: 0.8766\n",
      "RMSE: 0.8578\n",
      "{'f.csv': 0.8765558368460475, 'm.csv': 0.8578446358469589}\n"
     ]
    }
   ],
   "source": [
    "gender_directory = '../data/offline_evaluation_data/gender_data/'\n",
    "rmse_results = calculate_rmse_for_slices(gender_directory, model)\n",
    "\n",
    "print(rmse_results)"
   ],
   "metadata": {
    "collapsed": false,
    "ExecuteTime": {
     "end_time": "2024-03-18T20:33:17.962521Z",
     "start_time": "2024-03-18T20:33:17.721090Z"
    }
   },
   "id": "4f16c790836a1a00",
   "execution_count": 66
  },
  {
   "cell_type": "code",
   "outputs": [],
   "source": [],
   "metadata": {
    "collapsed": false
   },
   "id": "4f8347d12e4e16d6"
  }
 ],
 "metadata": {
  "kernelspec": {
   "display_name": "Python 3",
   "language": "python",
   "name": "python3"
  },
  "language_info": {
   "codemirror_mode": {
    "name": "ipython",
    "version": 2
   },
   "file_extension": ".py",
   "mimetype": "text/x-python",
   "name": "python",
   "nbconvert_exporter": "python",
   "pygments_lexer": "ipython2",
   "version": "2.7.6"
  }
 },
 "nbformat": 4,
 "nbformat_minor": 5
}
